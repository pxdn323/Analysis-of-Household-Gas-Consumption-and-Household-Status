{
 "cells": [
  {
   "cell_type": "markdown",
   "id": "558b2416",
   "metadata": {},
   "source": [
    "# Question 1.2 Hourly Plot"
   ]
  },
  {
   "cell_type": "raw",
   "id": "ad6d35d7",
   "metadata": {},
   "source": [
    "General Describtion: In this question, users can choose plot for several certain house for certain month.\n",
    "\n",
    "To show the plot of certain month N, just excute the function hourly_plot(N,ID,file).(int,list,str) ID = [id1,id2...]\n",
    "N = 0 for Oct.2015, N = 1 for Nov.2015, N = 2 for Dec.2015, N=3 for Jan.2016, N = 4 for Feb.2016, N = 5 for Mar.2016.\n",
    "\n",
    "In certain hour, all data is missing, a red dot will shown in plot. Otherwise, the plot will be not affected. \n",
    "For gas meter, it should not decrease in conmmon situation. Therefore, a green dot will be plot if there occurs decreasing.\n",
    "To ignore detial missing and decreasing information,just excute function by hourly_plot(N,ID,file,info=False).\n",
    "\n"
   ]
  },
  {
   "cell_type": "code",
   "execution_count": 8,
   "id": "694a027e",
   "metadata": {},
   "outputs": [],
   "source": [
    "import pandas as pd\n",
    "import matplotlib.pyplot as plt"
   ]
  },
  {
   "cell_type": "markdown",
   "id": "97c95398",
   "metadata": {},
   "source": [
    "For missing data, a red point will shown on line and use the last readinf data for ploting.\n",
    "For decreasing data, a green point will shown on line."
   ]
  },
  {
   "cell_type": "code",
   "execution_count": 9,
   "id": "e863c94b",
   "metadata": {},
   "outputs": [],
   "source": [
    "def hourly_plot(N,ID,file,info=True):   # for plot certain month hourly plot, default missing information is not print out.\n",
    "    for Id in ID:\n",
    "        data = hour_info(N,Id,file)\n",
    "        \n",
    "        if data == None:\n",
    "            print(\"There is no such dataid\",Id)\n",
    "            continue\n",
    "            \n",
    "        x = []\n",
    "        y = []\n",
    "        miss = []\n",
    "        decre = []\n",
    "        hold_m = 0\n",
    "        M = ['Oct.2015', 'Nov.2015', 'Dec.2015', 'Jan.2016', 'Feb.2016', 'Mar.2016']\n",
    "        \n",
    "        for i in range(0,len(data)):\n",
    "            x.append(i)\n",
    "            if data[i] != -1:\n",
    "                y.append(data[i])\n",
    "                if data[i] < hold_m:\n",
    "                    decre.append([i,hold_m])\n",
    "                hold_m = data[i]\n",
    "            else :\n",
    "                y.append(hold_m)\n",
    "                miss.append([i,hold_m])\n",
    "        plt.plot(x,y,label=str(Id))\n",
    "        plt.legend(loc='best')\n",
    "        \n",
    "        if info == True:#plot the missing point\n",
    "            for i in miss:\n",
    "                h = i[0]%24\n",
    "                d = i[0]//24 + 1\n",
    "                print(\"Data for house\",  Id, \"is MISSING on\",M[N],\"in day\",d,\"time\",h)\n",
    "                plt.scatter(i[0],i[1],color='r')\n",
    "            \n",
    "            for i in decre:\n",
    "                h = i[0]%24\n",
    "                d = i[0]//24 + 1\n",
    "                print(\"Data for house\",  Id, \"is DECREASING on\",M[N],\"in day\",d,\"time\",h)\n",
    "                plt.scatter(i[0],i[1],color='g')\n",
    "        \n",
    "    plt.xticks()\n",
    "    plt.xlabel('Number of hours from 1.'+M[N])\n",
    "    plt.ylabel('Gas meter')\n",
    "    plt.show()"
   ]
  },
  {
   "cell_type": "markdown",
   "id": "55db1f3d",
   "metadata": {},
   "source": [
    "The function hour_info is used to process data refer to hour information. Here we filter the file data by month and ID first.\n",
    "The output data frame is {number of hour:ave_meter_value}.\n",
    "If there no readings for certain hour, a -1 will be in the data.\n",
    "\n"
   ]
  },
  {
   "cell_type": "code",
   "execution_count": 10,
   "id": "a8b67a7d",
   "metadata": {},
   "outputs": [],
   "source": [
    "def hour_info(N,ID,file):\n",
    "    file = pd.read_csv(file)\n",
    "    mon = [10,11,12,1,2,3]\n",
    "    data = {}\n",
    "    \n",
    "    #generate hour number for certain month first\n",
    "    if N == 0 or N == 2 or N == 3 or N == 5:\n",
    "        hour_num = 31*24\n",
    "    elif N == 4:\n",
    "        hour_num = 29*24\n",
    "    else:\n",
    "        hour_num = 30*24\n",
    "    for i in range(0,hour_num):\n",
    "        data[i]= []\n",
    "    \n",
    "    #filter file by dataid \n",
    "    file = file[(file['dataid']==ID) | (file['dataid']==str(ID))]\n",
    "    if len(file) == 0:\n",
    "        return None\n",
    "    #filter file by month\n",
    "    file = file.values\n",
    "    for i in range(0,len(file)):\n",
    "        if int(file[i][0].split('-')[1]) == mon[N]:\n",
    "            d = int(file[i][0].split('-')[2].split(' ')[0])\n",
    "            h = int(file[i][0].split('-')[2].split(' ')[1].split(':')[0])\n",
    "            h_num = (d-1)*24 + h\n",
    "            data[h_num].append(file[i][2])\n",
    "    for i in range(0,hour_num):\n",
    "        if len(data[i]) != 0:\n",
    "            data[i] = sum(data[i])/ len(data[i])\n",
    "        else: \n",
    "            data[i] = -1\n",
    "\n",
    "    return data"
   ]
  },
  {
   "cell_type": "code",
   "execution_count": 14,
   "id": "3140db1e",
   "metadata": {
    "scrolled": false
   },
   "outputs": [
    {
     "name": "stdout",
     "output_type": "stream",
     "text": [
      "Data for house 5810 is MISSING on Oct.2015 in day 26 time 0\n",
      "Data for house 5810 is MISSING on Oct.2015 in day 26 time 1\n",
      "Data for house 5810 is MISSING on Oct.2015 in day 26 time 2\n",
      "Data for house 5810 is MISSING on Oct.2015 in day 26 time 3\n",
      "Data for house 5810 is MISSING on Oct.2015 in day 26 time 4\n",
      "Data for house 5810 is MISSING on Oct.2015 in day 26 time 5\n",
      "Data for house 5810 is MISSING on Oct.2015 in day 26 time 6\n",
      "Data for house 5810 is MISSING on Oct.2015 in day 26 time 7\n",
      "Data for house 5810 is MISSING on Oct.2015 in day 26 time 8\n",
      "Data for house 5810 is MISSING on Oct.2015 in day 26 time 9\n",
      "Data for house 5810 is MISSING on Oct.2015 in day 26 time 10\n",
      "Data for house 5810 is MISSING on Oct.2015 in day 26 time 11\n",
      "Data for house 5810 is MISSING on Oct.2015 in day 26 time 12\n",
      "Data for house 5810 is MISSING on Oct.2015 in day 26 time 13\n",
      "Data for house 5810 is MISSING on Oct.2015 in day 26 time 14\n",
      "Data for house 5810 is MISSING on Oct.2015 in day 26 time 15\n",
      "Data for house 5810 is MISSING on Oct.2015 in day 26 time 16\n",
      "Data for house 5810 is MISSING on Oct.2015 in day 26 time 17\n",
      "Data for house 5810 is MISSING on Oct.2015 in day 26 time 18\n",
      "Data for house 5810 is MISSING on Oct.2015 in day 26 time 19\n",
      "Data for house 5810 is MISSING on Oct.2015 in day 26 time 20\n",
      "Data for house 5810 is MISSING on Oct.2015 in day 26 time 21\n",
      "Data for house 5810 is MISSING on Oct.2015 in day 26 time 22\n",
      "Data for house 5810 is MISSING on Oct.2015 in day 26 time 23\n",
      "Data for house 5810 is DECREASING on Oct.2015 in day 31 time 1\n",
      "Data for house 484 is MISSING on Oct.2015 in day 26 time 0\n",
      "Data for house 484 is MISSING on Oct.2015 in day 26 time 1\n",
      "Data for house 484 is MISSING on Oct.2015 in day 26 time 2\n",
      "Data for house 484 is MISSING on Oct.2015 in day 26 time 3\n",
      "Data for house 484 is MISSING on Oct.2015 in day 26 time 4\n",
      "Data for house 484 is MISSING on Oct.2015 in day 26 time 5\n",
      "Data for house 484 is MISSING on Oct.2015 in day 26 time 6\n",
      "Data for house 484 is MISSING on Oct.2015 in day 26 time 7\n",
      "Data for house 484 is MISSING on Oct.2015 in day 26 time 8\n",
      "Data for house 484 is MISSING on Oct.2015 in day 26 time 9\n",
      "Data for house 484 is MISSING on Oct.2015 in day 26 time 10\n",
      "Data for house 484 is MISSING on Oct.2015 in day 26 time 11\n",
      "Data for house 484 is MISSING on Oct.2015 in day 26 time 12\n",
      "Data for house 484 is MISSING on Oct.2015 in day 26 time 13\n",
      "Data for house 484 is MISSING on Oct.2015 in day 26 time 14\n",
      "Data for house 484 is MISSING on Oct.2015 in day 26 time 15\n",
      "Data for house 484 is MISSING on Oct.2015 in day 26 time 16\n",
      "Data for house 484 is MISSING on Oct.2015 in day 26 time 17\n",
      "Data for house 484 is MISSING on Oct.2015 in day 26 time 18\n",
      "Data for house 484 is MISSING on Oct.2015 in day 26 time 19\n",
      "Data for house 484 is MISSING on Oct.2015 in day 26 time 20\n",
      "Data for house 484 is MISSING on Oct.2015 in day 26 time 21\n",
      "Data for house 484 is MISSING on Oct.2015 in day 26 time 22\n",
      "Data for house 484 is MISSING on Oct.2015 in day 26 time 23\n"
     ]
    },
    {
     "data": {
      "image/png": "[encoded data removed]",
      "text/plain": [
       "<Figure size 432x288 with 1 Axes>"
      ]
     },
     "metadata": {
      "needs_background": "light"
     },
     "output_type": "display_data"
    }
   ],
   "source": [
    "hourly_plot(0,[5810,484],'dataport-export_gas_oct2015-mar2016.csv')"
   ]
  },
  {
   "cell_type": "code",
   "execution_count": null,
   "id": "0e34efd8",
   "metadata": {},
   "outputs": [],
   "source": []
  },
  {
   "cell_type": "code",
   "execution_count": null,
   "id": "47dcbcfb",
   "metadata": {},
   "outputs": [],
   "source": []
  }
 ],
 "metadata": {
  "kernelspec": {
   "display_name": "Python 3",
   "language": "python",
   "name": "python3"
  },
  "language_info": {
   "codemirror_mode": {
    "name": "ipython",
    "version": 3
   },
   "file_extension": ".py",
   "mimetype": "text/x-python",
   "name": "python",
   "nbconvert_exporter": "python",
   "pygments_lexer": "ipython3",
   "version": "3.8.8"
  }
 },
 "nbformat": 4,
 "nbformat_minor": 5
}
