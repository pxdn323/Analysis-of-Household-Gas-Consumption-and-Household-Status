{
 "cells": [
  {
   "cell_type": "markdown",
   "id": "d4c4b0cf",
   "metadata": {},
   "source": [
    "# Cluster based on holiday hourly data"
   ]
  },
  {
   "cell_type": "code",
   "execution_count": 3,
   "id": "deb9357d",
   "metadata": {},
   "outputs": [],
   "source": [
    "import pandas as pd\n",
    "import matplotlib.pyplot as plt\n",
    "from sklearn.cluster import KMeans\n",
    "import numpy as np\n"
   ]
  },
  {
   "cell_type": "markdown",
   "id": "bc1b345f",
   "metadata": {},
   "source": [
    "The K_means function will cluster house by their holiday hour data and return the clustered labels.\n",
    "\n",
    "Record the total gas consuming of each label in certain holiday to make label meaningful. "
   ]
  },
  {
   "cell_type": "code",
   "execution_count": 4,
   "id": "c60fbd80",
   "metadata": {},
   "outputs": [],
   "source": [
    "def K_means(Mon,date,file):\n",
    "    #generate dataset for clustering\n",
    "    f = pd.read_csv(file)\n",
    "    ID_list = f['dataid'].unique()\n",
    "    DATA = []\n",
    "    DATA_ID = []\n",
    "    consu_tot = []\n",
    "    for ID in ID_list:\n",
    "        [h_data,tot] = hour_info(Mon,date,file,ID)\n",
    "        if h_data != None:\n",
    "            DATA.append(h_data)\n",
    "            DATA_ID.append(ID)\n",
    "            consu_tot.append(tot)\n",
    "            \n",
    "    X = np.array(DATA)\n",
    "    kmeans = KMeans(n_clusters = 4, random_state=0).fit(X)\n",
    "    LABEL = kmeans.labels_\n",
    "   \n",
    "            \n",
    "    return [LABEL,consu_tot]\n",
    "    "
   ]
  },
  {
   "cell_type": "markdown",
   "id": "05ae58ec",
   "metadata": {},
   "source": [
    "The function hour_info is used to generate hourly data for certain house in certain holiday.\n",
    "\n",
    "To find the increase slope feature and avoid the interference of the total amount, every （hourly data）/ （the biggest data within the day ）to normalize.\n",
    "\n",
    "If data missing or decrease,use the previous hold value. "
   ]
  },
  {
   "cell_type": "code",
   "execution_count": 5,
   "id": "af07740b",
   "metadata": {},
   "outputs": [],
   "source": [
    "def hour_info(Mon,date,file,ID):#mon[10,11,12,1,2,3]  \n",
    "    file = pd.read_csv(file)\n",
    "    data = {}\n",
    "    d = []\n",
    "    for i in range(0,24):\n",
    "        data[i]= []\n",
    "    \n",
    "    #filter file by dataid \n",
    "    file = file[(file['dataid']==ID) | (file['dataid']==str(ID))]\n",
    "    if len(file) == 0:\n",
    "        return None\n",
    "    #filter file by month and date\n",
    "    file = file.values\n",
    "    for i in range(0,len(file)):\n",
    "        if int(file[i][0].split('-')[1]) == Mon and int(file[i][0].split('-')[2].split(' ')[0]) == date:\n",
    "            h_num=  int(file[i][0].split('-')[2].split(' ')[1].split(':')[0])\n",
    "            data[h_num].append(file[i][2])\n",
    "    hold = 0\n",
    "    for i in range(0,24):\n",
    "        if len(data[i]) != 0:\n",
    "            hold = sum(data[i])/ len(data[i])\n",
    "            break\n",
    "    if hold == 0:\n",
    "        return [None,None]\n",
    "    #If data missing or decrease,append the previous hold value\n",
    "    for i in range(0,24):\n",
    "        if len(data[i]) != 0 and sum(data[i])/ len(data[i]) >= hold:\n",
    "            data[i] = sum(data[i])/ len(data[i])\n",
    "            hold = data[i]\n",
    "            d.append(hold)\n",
    "        else: \n",
    "            data[i] = hold\n",
    "            d.append(hold)\n",
    "            \n",
    "    #compute the total gas consuming\n",
    "    t = d[23] - d[0]\n",
    "    \n",
    "    #normalize\n",
    "    for i in range(0,24):\n",
    "        d[i] = d[i]/d[23]\n",
    "        \n",
    "    \n",
    "    return [d,t]"
   ]
  },
  {
   "cell_type": "markdown",
   "id": "e952d354",
   "metadata": {},
   "source": [
    "Based on information of the neighbour from the Mueller Neighborhood Guide:\n",
    "\n",
    "“The population of Mueller is 5,339 with 49% males and 51% females, and a median age of 36.\n",
    "\n",
    "23% of this neighbourhood is occupied by families with children,\n",
    "\n",
    "29% single-female families, 23% single-male families, and \n",
    "\n",
    "48% couples. \n",
    "\n",
    "The average household size in Mueller is 2.14, and the average family size is 2.81.\n",
    "\n",
    "Obviously, according to common sense, the amount of gas has a great relationship with the population. Therefore, we decided to divide the data into four categories which is associated with family size and gas consumption to observe whether it can be consistent with the basic distribution information.\n",
    "\n",
    "During Oct to Mar, U.S. statutory holidays are:\n",
    "\n",
    "New Year's Day\t            1 Jan \n",
    "\n",
    "Martin Luther King Jr. Day\t   18 Jan\n",
    "\n",
    "Veterans Day\t           11 Nov\n",
    "\n",
    "Thanksgiving Day\t           25 Nov \n",
    "\n",
    "Christmas Day\t           24 Dec\n",
    "\n",
    "New Year's Day\t           31 Dec\n",
    "\n",
    "These six dates will be used for classification."
   ]
  },
  {
   "cell_type": "code",
   "execution_count": 6,
   "id": "4e040716",
   "metadata": {},
   "outputs": [],
   "source": [
    "label = [[],[],[],[],[],[]]\n",
    "con = [[],[],[],[],[],[]]\n",
    "[label[0],con[0]]  = K_means(1,1,'dataport-export_gas_oct2015-mar2016.csv')\n",
    "[label[1],con[1]]  = K_means(1,18,'dataport-export_gas_oct2015-mar2016.csv')\n",
    "[label[2],con[2]]  = K_means(11,11,'dataport-export_gas_oct2015-mar2016.csv')\n",
    "[label[3],con[3]]  = K_means(11,25,'dataport-export_gas_oct2015-mar2016.csv')\n",
    "[label[4],con[4]]  = K_means(12,24,'dataport-export_gas_oct2015-mar2016.csv')\n",
    "[label[5],con[5]]  = K_means(12,31,'dataport-export_gas_oct2015-mar2016.csv')"
   ]
  },
  {
   "cell_type": "markdown",
   "id": "b92b0d72",
   "metadata": {},
   "source": [
    "The code below is used to compute the average total gas consuming of each label in certain holiday and percentage of each label."
   ]
  },
  {
   "cell_type": "code",
   "execution_count": 7,
   "id": "a7b8cde7",
   "metadata": {},
   "outputs": [
    {
     "name": "stdout",
     "output_type": "stream",
     "text": [
      "For New Years Day:\n",
      "For label0: the percentage is 18.253968253968253%, with average total gas consuming is 64.87867494823877\n",
      "For label1: the percentage is 42.857142857142854%, with average total gas consuming is 354.2113930308381\n",
      "For label2: the percentage is 34.12698412698413%, with average total gas consuming is 284.02606127722504\n",
      "For label3: the percentage is 4.761904761904762%, with average total gas consuming is 514.5555555555547\n",
      "For Martin Luther King Jr. Day:\n",
      "For label0: the percentage is 11.200000000000001%, with average total gas consuming is 41.70000000000333\n",
      "For label1: the percentage is 31.2%, with average total gas consuming is 285.6878114088639\n",
      "For label2: the percentage is 48.8%, with average total gas consuming is 231.17085610200252\n",
      "For label3: the percentage is 8.799999999999999%, with average total gas consuming is 366.5772727272733\n",
      "For Veterans Day:\n",
      "For label0: the percentage is 41.12903225806452%, with average total gas consuming is 14.507563025210688\n",
      "For label1: the percentage is 27.419354838709676%, with average total gas consuming is 54.663398692810645\n",
      "For label2: the percentage is 3.225806451612903%, with average total gas consuming is 53.0\n",
      "For label3: the percentage is 28.225806451612907%, with average total gas consuming is 38.810187590187915\n",
      "For Thanksgiving Day:\n",
      "For label0: the percentage is 35.60606060606061%, with average total gas consuming is 22.214571244359213\n",
      "For label1: the percentage is 16.666666666666664%, with average total gas consuming is 85.48383838383862\n",
      "For label2: the percentage is 42.42424242424242%, with average total gas consuming is 52.89455782312897\n",
      "For label3: the percentage is 5.303030303030303%, with average total gas consuming is 128.28571428571428\n",
      "For Christmas Day:\n",
      "For label0: the percentage is 55.46218487394958%, with average total gas consuming is 30.63167641325554\n",
      "For label1: the percentage is 9.243697478991598%, with average total gas consuming is 85.12929292929502\n",
      "For label2: the percentage is 8.403361344537815%, with average total gas consuming is 85.90714285714348\n",
      "For label3: the percentage is 26.89075630252101%, with average total gas consuming is 64.47672275641071\n",
      "For New Years Day:\n",
      "For label0: the percentage is 38.70967741935484%, with average total gas consuming is 273.06896194083583\n",
      "For label1: the percentage is 24.193548387096776%, with average total gas consuming is 329.5557936507937\n",
      "For label2: the percentage is 30.64516129032258%, with average total gas consuming is 112.49592731829647\n",
      "For label3: the percentage is 6.451612903225806%, with average total gas consuming is 395.35597826086996\n",
      "As sorted correspondingly:\n"
     ]
    },
    {
     "data": {
      "image/png": "[encoded data removed]",
      "text/plain": [
       "<Figure size 432x288 with 1 Axes>"
      ]
     },
     "metadata": {
      "needs_background": "light"
     },
     "output_type": "display_data"
    }
   ],
   "source": [
    "ave_con = [[],[],[],[],[],[]]\n",
    "num_label = [[],[],[],[],[],[]]\n",
    "\n",
    "Y = [[],[],[],[]]\n",
    "T = [[],[],[],[]]\n",
    "\n",
    "for i in range(0,6):\n",
    "    s = []\n",
    "    if i == 0:\n",
    "        print('For New Years Day:')\n",
    "    if i == 1:\n",
    "        print('For Martin Luther King Jr. Day:')\n",
    "    if i == 2:\n",
    "        print('For Veterans Day:')\n",
    "    if i == 3:\n",
    "        print('For Thanksgiving Day:')\n",
    "    if i == 4:\n",
    "        print('For Christmas Day:')\n",
    "    if i == 5:\n",
    "        print('For New Years Day:')\n",
    "    ave_con[i] = [0,0,0,0]\n",
    "    num_label[i]= [0,0,0,0]\n",
    "    for j in range(0,len(label[i])):\n",
    "        l = label[i][j] \n",
    "        c = con[i][j]\n",
    "        ave_con[i][l] = ave_con[i][l] + c\n",
    "        num_label[i][l] = num_label[i][l] + 1\n",
    "    \n",
    "\n",
    "    for a in range(0,4):\n",
    "        ave_con[i][a] = ave_con[i][a]/num_label[i][a]\n",
    "        num_label[i][a] = num_label[i][a]/len((label[i]))*100\n",
    "        print('For label'+str(a)+': the percentage is '+str(num_label[i][a])+'%, with average total gas consuming is '+str(ave_con[i][a]))\n",
    "        s.append((ave_con[i][a],num_label[i][a]))\n",
    "\n",
    "    #sort labels by average total gas consuming\n",
    "    s=sorted(s,key=lambda t:t[0])  \n",
    "    for a in range(0,4):\n",
    "        Y[a].append(s[a][1])\n",
    "        T[a].append(s[a][0])\n",
    "X = ['New Years Day1.1','Martin Luther King Jr. Day','Veterans Day','Thanksgiving Day','Christmas Day','New Years Day12.31']    \n",
    "print(\"As sorted correspondingly:\")\n",
    "for i in range(0,4):\n",
    "    plt.plot(X,Y[i])\n",
    "    \n",
    "plt.show()"
   ]
  },
  {
   "cell_type": "markdown",
   "id": "703ba984",
   "metadata": {},
   "source": [
    "Looking at the average total gas consuming, in Veterans Day and Christmas Day ,the consumimg seems similar, they may not give proper feature clustering by amount of gas. Therefore, those holidays labels will not be involved in average calculating."
   ]
  },
  {
   "cell_type": "code",
   "execution_count": 8,
   "id": "954e42d8",
   "metadata": {},
   "outputs": [
    {
     "name": "stdout",
     "output_type": "stream",
     "text": [
      "Average percentage for No0.label is: 23.92629753758786%\n",
      "Average total gas consuming is for No0.label is: 71.60710323734101\n",
      "Average percentage for No1.label is: 41.01522599264535%\n",
      "Average total gas consuming is for No1.label is: 236.11183687244772\n",
      "Average percentage for No2.label is: 28.72933947772657%\n",
      "Average total gas consuming is for No2.label is: 298.26703235090736\n",
      "Average percentage for No3.label is: 6.329136992040217%\n",
      "Average total gas consuming is for No3.label is: 386.3362655948416\n"
     ]
    }
   ],
   "source": [
    "for i in range(0,4):#2,4\n",
    "    Y[i][2] = 0\n",
    "    Y[i][4] = 0\n",
    "    print('Average percentage for No'+str(i)+'.label is: '+str(sum(Y[i])/4)+'%')\n",
    "    print('Average total gas consuming is for No'+str(i)+'.label is: '+str(sum(T[i])/4))"
   ]
  },
  {
   "cell_type": "markdown",
   "id": "eb63eaaa",
   "metadata": {},
   "source": [
    "In holidays, people who go to work or school are more likely to go home to eat, and the amount of total gas consuming can better reflect the population.\n",
    "\n",
    "From the graph and data, based on information given above, we can make assumption that \n",
    "\n",
    "No.0 label represent family with 1 persons,which means single liver without children, 24%\n",
    "\n",
    "No.1 label represent family with 2-3 persons,which means couples with or without children + single parent with child,41%\n",
    "\n",
    "No.2 label represent family with 4-5 persons,which means couples with children (median size family),28%\n",
    "\n",
    "No.3 label represent family with 5+ persons,which means big family,6%\n",
    "\n",
    "\n",
    "By this assumption, the family with children is above 34%.\n",
    "\n",
    "The average family size is 2.825 in this area.\n"
   ]
  },
  {
   "cell_type": "code",
   "execution_count": null,
   "id": "8cdae4dc",
   "metadata": {},
   "outputs": [],
   "source": []
  }
 ],
 "metadata": {
  "kernelspec": {
   "display_name": "Python 3",
   "language": "python",
   "name": "python3"
  },
  "language_info": {
   "codemirror_mode": {
    "name": "ipython",
    "version": 3
   },
   "file_extension": ".py",
   "mimetype": "text/x-python",
   "name": "python",
   "nbconvert_exporter": "python",
   "pygments_lexer": "ipython3",
   "version": "3.8.8"
  }
 },
 "nbformat": 4,
 "nbformat_minor": 5
}
